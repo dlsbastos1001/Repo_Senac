{
 "cells": [
  {
   "cell_type": "code",
   "execution_count": 18,
   "metadata": {},
   "outputs": [
    {
     "name": "stdout",
     "output_type": "stream",
     "text": [
      "olá\n"
     ]
    }
   ],
   "source": [
    "print ('olá')"
   ]
  },
  {
   "cell_type": "code",
   "execution_count": 19,
   "metadata": {},
   "outputs": [],
   "source": [
    "nome = 'joão'"
   ]
  },
  {
   "cell_type": "code",
   "execution_count": 20,
   "metadata": {},
   "outputs": [
    {
     "name": "stdout",
     "output_type": "stream",
     "text": [
      "joão\n"
     ]
    }
   ],
   "source": [
    "print (nome)"
   ]
  },
  {
   "cell_type": "code",
   "execution_count": 21,
   "metadata": {},
   "outputs": [],
   "source": [
    "## Atividade02\n"
   ]
  },
  {
   "cell_type": "code",
   "execution_count": 3,
   "metadata": {},
   "outputs": [
    {
     "name": "stdout",
     "output_type": "stream",
     "text": [
      "25\n"
     ]
    }
   ],
   "source": [
    "n1 = int(input('novo numero: '))\n",
    "n2 = 20\n",
    "r = n1 + n2 \n",
    "print(r)"
   ]
  },
  {
   "cell_type": "code",
   "execution_count": 4,
   "metadata": {},
   "outputs": [
    {
     "name": "stdout",
     "output_type": "stream",
     "text": [
      "o resultado de 5 + 20 é 25\n"
     ]
    }
   ],
   "source": [
    "print (f'o resultado de {n1} + {n2} é {r}')"
   ]
  },
  {
   "cell_type": "code",
   "execution_count": 5,
   "metadata": {},
   "outputs": [
    {
     "name": "stdout",
     "output_type": "stream",
     "text": [
      "11\n"
     ]
    }
   ],
   "source": [
    "n3 = int(input('digite outro n: '))\n",
    "n4 = int(input('digite o segundo N:'))\n",
    "r2 = n3 + n4\n",
    "print (r2)"
   ]
  },
  {
   "cell_type": "code",
   "execution_count": 9,
   "metadata": {},
   "outputs": [
    {
     "name": "stdout",
     "output_type": "stream",
     "text": [
      "2.975 é menor que 7, você está reprovado !!!\n"
     ]
    }
   ],
   "source": [
    "b1 = float(input('digite uma nota: '))\n",
    "b2 = float(input('digite outra nota: '))\n",
    "b3 = float(input('digite outra nota: '))\n",
    "b4 = float(input('digite outra nota: '))\n",
    "m = (b1 + b2 + b3 + b4)/4\n",
    "\n",
    "if m >= 7:\n",
    "    print('está aprovado')\n",
    "else: \n",
    "    print(f'{m} é menor que 7, você está reprovado !!!')"
   ]
  },
  {
   "cell_type": "code",
   "execution_count": null,
   "metadata": {},
   "outputs": [],
   "source": []
  },
  {
   "cell_type": "code",
   "execution_count": null,
   "metadata": {},
   "outputs": [],
   "source": [
    "while True:\n",
    "    try: \n",
    "        n3 = int(input('digite oprimeiro numero: '))\n",
    "        break\n",
    "    except:\n",
    "        print('digite um input válido: ')"
   ]
  },
  {
   "cell_type": "code",
   "execution_count": 11,
   "metadata": {},
   "outputs": [
    {
     "name": "stdout",
     "output_type": "stream",
     "text": [
      "0\n",
      "1\n",
      "2\n",
      "3\n",
      "4\n",
      "5\n"
     ]
    }
   ],
   "source": [
    "contador = 0\n",
    "while contador <= 5:\n",
    "    print(contador)\n",
    "    contador += 1"
   ]
  },
  {
   "cell_type": "code",
   "execution_count": 17,
   "metadata": {},
   "outputs": [
    {
     "name": "stdout",
     "output_type": "stream",
     "text": [
      "10\n",
      "20\n",
      "30\n",
      "40\n",
      "50\n",
      "60\n",
      "70\n",
      "80\n",
      "90\n",
      "100\n"
     ]
    }
   ],
   "source": [
    "for i in range(10, 101, 10):\n",
    "    print(i)"
   ]
  },
  {
   "cell_type": "code",
   "execution_count": 21,
   "metadata": {},
   "outputs": [
    {
     "name": "stdout",
     "output_type": "stream",
     "text": [
      "('fogão', 'geladeira')\n",
      "<class 'tuple'>\n"
     ]
    }
   ],
   "source": [
    "produtos = ('fogão', 'geladeira')\n",
    "print(produtos)\n",
    "tipo_dado = type(produtos)\n",
    "print (tipo_dado)"
   ]
  },
  {
   "cell_type": "code",
   "execution_count": 23,
   "metadata": {},
   "outputs": [
    {
     "name": "stdout",
     "output_type": "stream",
     "text": [
      "['fogão', 'geladeira']\n",
      "geladeira\n"
     ]
    }
   ],
   "source": [
    "produtos = ['fogão', 'geladeira']\n",
    "preço = [600, 2500]\n",
    "print(produtos)\n",
    "tipo_dado = type(produtos)\n",
    "print (produtos[1])"
   ]
  },
  {
   "cell_type": "code",
   "execution_count": 26,
   "metadata": {},
   "outputs": [
    {
     "name": "stdout",
     "output_type": "stream",
     "text": [
      "o produto fogão custa 600\n",
      "o produto geladeira custa 2500\n"
     ]
    }
   ],
   "source": [
    "produtos = ['fogão', 'geladeira']\n",
    "preço = [600, 2500]\n",
    "for i in range(len(produtos)):\n",
    "    print(f'o produto {produtos[i]} custa {preço[i]}')"
   ]
  },
  {
   "cell_type": "code",
   "execution_count": 28,
   "metadata": {},
   "outputs": [
    {
     "name": "stdout",
     "output_type": "stream",
     "text": [
      "0\n",
      "1\n"
     ]
    }
   ],
   "source": [
    "for i in range(len(produtos)):\n",
    "    print (f'o produto {produtos[i]}')"
   ]
  },
  {
   "cell_type": "code",
   "execution_count": 39,
   "metadata": {},
   "outputs": [
    {
     "name": "stdout",
     "output_type": "stream",
     "text": [
      "existem 5 vogais\n",
      "['a', 'goiaba', 'y', 'o']\n"
     ]
    }
   ],
   "source": [
    "vogais = ['a', 'e', 'i', 'o', 'u']\n",
    "vogais[1] = 'goiaba'\n",
    "quantidade = len(vogais)\n",
    "print(f'existem {quantidade} vogais')\n",
    "vogais.insert(2, 'y')\n",
    "vogais.remove('i')\n",
    "vogais.pop(4)\n",
    "print(vogais)\n"
   ]
  }
 ],
 "metadata": {
  "kernelspec": {
   "display_name": "Python 3",
   "language": "python",
   "name": "python3"
  },
  "language_info": {
   "codemirror_mode": {
    "name": "ipython",
    "version": 3
   },
   "file_extension": ".py",
   "mimetype": "text/x-python",
   "name": "python",
   "nbconvert_exporter": "python",
   "pygments_lexer": "ipython3",
   "version": "3.11.4"
  },
  "orig_nbformat": 4
 },
 "nbformat": 4,
 "nbformat_minor": 2
}
