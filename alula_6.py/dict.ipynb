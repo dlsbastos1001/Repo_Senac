{
 "cells": [
  {
   "cell_type": "code",
   "execution_count": 2,
   "metadata": {},
   "outputs": [
    {
     "name": "stdout",
     "output_type": "stream",
     "text": [
      "{'nome': 'Ana', 'idade': 19, 'nota': 9.0}\n"
     ]
    }
   ],
   "source": [
    "#Criar um dicionário:\n",
    "dados = {}\n",
    "aluno = {\"nome\": \"Ana\", \"idade\": 19, \"nota\": 9.0}\n",
    "print(aluno)"
   ]
  },
  {
   "cell_type": "code",
   "execution_count": 35,
   "metadata": {},
   "outputs": [
    {
     "ename": "AttributeError",
     "evalue": "'str' object has no attribute 'append'",
     "output_type": "error",
     "traceback": [
      "\u001b[31m---------------------------------------------------------------------------\u001b[39m",
      "\u001b[31mAttributeError\u001b[39m                            Traceback (most recent call last)",
      "\u001b[36mCell\u001b[39m\u001b[36m \u001b[39m\u001b[32mIn[35]\u001b[39m\u001b[32m, line 2\u001b[39m\n\u001b[32m      1\u001b[39m nome = \u001b[33m'\u001b[39m\u001b[33mjoao\u001b[39m\u001b[33m'\u001b[39m\n\u001b[32m----> \u001b[39m\u001b[32m2\u001b[39m \u001b[43maluno\u001b[49m\u001b[43m[\u001b[49m\u001b[33;43m\"\u001b[39;49m\u001b[33;43mnome\u001b[39;49m\u001b[33;43m\"\u001b[39;49m\u001b[43m]\u001b[49m\u001b[43m.\u001b[49m\u001b[43mappend\u001b[49m(nome)\n",
      "\u001b[31mAttributeError\u001b[39m: 'str' object has no attribute 'append'"
     ]
    }
   ],
   "source": [
    "nome = 'joao'\n",
    "aluno[\"nome\"].append(nome)"
   ]
  },
  {
   "cell_type": "code",
   "execution_count": 15,
   "metadata": {},
   "outputs": [
    {
     "ename": "KeyError",
     "evalue": "'endereco'",
     "output_type": "error",
     "traceback": [
      "\u001b[31m---------------------------------------------------------------------------\u001b[39m",
      "\u001b[31mKeyError\u001b[39m                                  Traceback (most recent call last)",
      "\u001b[36mCell\u001b[39m\u001b[36m \u001b[39m\u001b[32mIn[15]\u001b[39m\u001b[32m, line 2\u001b[39m\n\u001b[32m      1\u001b[39m \u001b[38;5;66;03m#2. Acessar valores:\u001b[39;00m\n\u001b[32m----> \u001b[39m\u001b[32m2\u001b[39m \u001b[38;5;28mprint\u001b[39m(\u001b[43maluno\u001b[49m\u001b[43m[\u001b[49m\u001b[33;43m\"\u001b[39;49m\u001b[33;43mendereco\u001b[39;49m\u001b[33;43m\"\u001b[39;49m\u001b[43m]\u001b[49m) \n",
      "\u001b[31mKeyError\u001b[39m: 'endereco'"
     ]
    }
   ],
   "source": [
    "#2. Acessar valores:\n",
    "print(aluno[\"endereco\"]) \n"
   ]
  },
  {
   "cell_type": "code",
   "execution_count": 4,
   "metadata": {},
   "outputs": [
    {
     "name": "stdout",
     "output_type": "stream",
     "text": [
      "{'nome': 'Ana', 'idade': 19, 'nota': 9.5, 'turma': '3A'}\n"
     ]
    }
   ],
   "source": [
    "#3. Adicionar ou modificar valores:\n",
    "aluno[\"nota\"] = 9.5\n",
    "aluno[\"turma\"] = \"3A\"\n",
    "print(aluno)\n"
   ]
  },
  {
   "cell_type": "code",
   "execution_count": 5,
   "metadata": {},
   "outputs": [
    {
     "name": "stdout",
     "output_type": "stream",
     "text": [
      "{'nome': 'Ana', 'nota': 9.5, 'turma': '3A'}\n"
     ]
    }
   ],
   "source": [
    "#4. Remover itens:\n",
    "del aluno[\"idade\"]\n",
    "print(aluno)\n"
   ]
  },
  {
   "cell_type": "code",
   "execution_count": 6,
   "metadata": {},
   "outputs": [
    {
     "name": "stdout",
     "output_type": "stream",
     "text": [
      "dict_keys(['nome', 'nota', 'turma'])\n",
      "dict_values(['Ana', 9.5, '3A'])\n",
      "dict_items([('nome', 'Ana'), ('nota', 9.5), ('turma', '3A')])\n"
     ]
    }
   ],
   "source": [
    "#5. Obter apenas chaves, valores ou ambos:\n",
    "print(aluno.keys())\n",
    "print(aluno.values())\n",
    "print(aluno.items())\n"
   ]
  },
  {
   "cell_type": "code",
   "execution_count": 11,
   "metadata": {},
   "outputs": [
    {
     "name": "stdout",
     "output_type": "stream",
     "text": [
      "Nome encontrado!\n"
     ]
    }
   ],
   "source": [
    "#6. Verificar se uma chave existe:\n",
    "if \"nome\" in aluno:\n",
    "    print(\"Nome encontrado!\")\n",
    "else:\n",
    "    print('Não encontrado')\n"
   ]
  },
  {
   "cell_type": "code",
   "execution_count": 12,
   "metadata": {},
   "outputs": [
    {
     "name": "stdout",
     "output_type": "stream",
     "text": [
      "3\n"
     ]
    }
   ],
   "source": [
    "#7. Tamanho do dicionário:\n",
    "print(len(aluno))"
   ]
  },
  {
   "cell_type": "code",
   "execution_count": null,
   "metadata": {},
   "outputs": [],
   "source": [
    "#8 - Limpar o dicionário:\n",
    "aluno.clear()\n",
    "\n"
   ]
  },
  {
   "cell_type": "code",
   "execution_count": null,
   "metadata": {},
   "outputs": [],
   "source": [
    "#9. Copiar um dicionário:\n",
    "copia = aluno.copy()\n"
   ]
  },
  {
   "cell_type": "code",
   "execution_count": 13,
   "metadata": {},
   "outputs": [
    {
     "name": "stdout",
     "output_type": "stream",
     "text": [
      "nome: Ana\n",
      "nota: 9.5\n",
      "turma: 3A\n"
     ]
    }
   ],
   "source": [
    "#10. Iterar sobre o dicionário:\n",
    "for chave, valor in aluno.items():\n",
    "    print(f\"{chave}: {valor}\")\n"
   ]
  },
  {
   "cell_type": "code",
   "execution_count": 16,
   "metadata": {},
   "outputs": [
    {
     "name": "stdout",
     "output_type": "stream",
     "text": [
      "Ana\n",
      "Chave inexistente\n"
     ]
    }
   ],
   "source": [
    "#11. Usar get() para acessar valores com segurança:\n",
    "print(aluno.get(\"nome\"))\n",
    "print(aluno.get(\"endereco\",\"Chave inexistente\"))\n"
   ]
  },
  {
   "cell_type": "code",
   "execution_count": 18,
   "metadata": {},
   "outputs": [
    {
     "name": "stdout",
     "output_type": "stream",
     "text": [
      "{'nome': 'Ana', 'nota': 10, 'turma': '3A', 'cidade': 'Rio'}\n"
     ]
    }
   ],
   "source": [
    "#12. Atualizar um dicionário com outro:\n",
    "dados_novos = {\"nota\": 10, \"cidade\": \"Rio\"}\n",
    "aluno.update(dados_novos)\n",
    "print(aluno)\n"
   ]
  },
  {
   "cell_type": "code",
   "execution_count": null,
   "metadata": {},
   "outputs": [],
   "source": [
    "#13. Substituir valor:\n",
    "aluno[\"idade\"] = 17\n"
   ]
  },
  {
   "cell_type": "code",
   "execution_count": null,
   "metadata": {},
   "outputs": [],
   "source": [
    "#14. Apagar chave:\n",
    "del aluno[\"idade\"]\n"
   ]
  },
  {
   "cell_type": "code",
   "execution_count": 19,
   "metadata": {},
   "outputs": [
    {
     "name": "stdout",
     "output_type": "stream",
     "text": [
      "{'nome': 'Ana', 'turma': '3A', 'cidade': 'Rio'}\n"
     ]
    }
   ],
   "source": [
    "#15. Apagar com retorno:\n",
    "nota = aluno.pop(\"nota\", \"Chave não encontrada\")\n",
    "print(aluno)\n"
   ]
  },
  {
   "cell_type": "code",
   "execution_count": 32,
   "metadata": {},
   "outputs": [],
   "source": [
    "capitais = {'RJ': 'Rio de Janeiro', 'BA':'Salvador'}"
   ]
  },
  {
   "cell_type": "code",
   "execution_count": 31,
   "metadata": {},
   "outputs": [],
   "source": [
    "escolha = input(('Digite a sigla de um estado para visualizar sua capital'))\n"
   ]
  },
  {
   "cell_type": "code",
   "execution_count": 33,
   "metadata": {},
   "outputs": [
    {
     "name": "stdout",
     "output_type": "stream",
     "text": [
      "Rio de Janeiro\n"
     ]
    }
   ],
   "source": [
    "print(capitais.get(escolha))"
   ]
  },
  {
   "cell_type": "code",
   "execution_count": 38,
   "metadata": {},
   "outputs": [
    {
     "name": "stdout",
     "output_type": "stream",
     "text": [
      "{'Produto': ['Fogão', 'Geladeira', 'Máquina de Lavar'], 'Preço': [600, 2500, 1900]}\n"
     ]
    }
   ],
   "source": [
    "produtos = {'Produto': ['Fogão','Geladeira','Máquina de Lavar'],\n",
    "            'Preço': [600, 2500,1900]}\n",
    "\n",
    "'''Nome_produto = input('Digite o nome do produto que deseja cadastrar: ')\n",
    "Valor_produto = float(input(f'Digite o valor do produto {Nome_produto}: '))\n",
    "\n",
    "produtos['Produto'].append(Nome_produto)\n",
    "produtos['Preço'].append(Valor_produto)'''\n",
    "\n",
    "print(produtos)\n",
    "\n"
   ]
  },
  {
   "cell_type": "code",
   "execution_count": 46,
   "metadata": {},
   "outputs": [
    {
     "data": {
      "text/html": [
       "<div>\n",
       "<style scoped>\n",
       "    .dataframe tbody tr th:only-of-type {\n",
       "        vertical-align: middle;\n",
       "    }\n",
       "\n",
       "    .dataframe tbody tr th {\n",
       "        vertical-align: top;\n",
       "    }\n",
       "\n",
       "    .dataframe thead th {\n",
       "        text-align: right;\n",
       "    }\n",
       "</style>\n",
       "<table border=\"1\" class=\"dataframe\">\n",
       "  <thead>\n",
       "    <tr style=\"text-align: right;\">\n",
       "      <th></th>\n",
       "      <th>Produto</th>\n",
       "      <th>Preço</th>\n",
       "    </tr>\n",
       "  </thead>\n",
       "  <tbody>\n",
       "    <tr>\n",
       "      <th>0</th>\n",
       "      <td>Fogão</td>\n",
       "      <td>600</td>\n",
       "    </tr>\n",
       "    <tr>\n",
       "      <th>1</th>\n",
       "      <td>Geladeira</td>\n",
       "      <td>2500</td>\n",
       "    </tr>\n",
       "    <tr>\n",
       "      <th>2</th>\n",
       "      <td>Máquina de Lavar</td>\n",
       "      <td>1900</td>\n",
       "    </tr>\n",
       "  </tbody>\n",
       "</table>\n",
       "</div>"
      ],
      "text/plain": [
       "            Produto  Preço\n",
       "0             Fogão    600\n",
       "1         Geladeira   2500\n",
       "2  Máquina de Lavar   1900"
      ]
     },
     "execution_count": 46,
     "metadata": {},
     "output_type": "execute_result"
    }
   ],
   "source": [
    "import pandas as pd\n",
    "\n",
    "df = pd.DataFrame(produtos)"
   ]
  },
  {
   "cell_type": "code",
   "execution_count": 2,
   "metadata": {},
   "outputs": [
    {
     "name": "stdout",
     "output_type": "stream",
     "text": [
      "1 - adicionar\n",
      "2 - remover\n",
      "3 - ver filmes de usuário\n",
      "4- ver todos usuários\n",
      "0 - sair\n",
      "{'Cassio': [], 'Joao': ['consta']}\n"
     ]
    }
   ],
   "source": [
    "usuarios_filmes = {'Cassio':[]}\n",
    "\n",
    "print('1 - adicionar\\n2 - remover\\n3 - ver filmes de usuário\\n4- ver todos usuários\\n0 - sair')\n",
    "while True:\n",
    "    try:\n",
    "        opcao = int(input('Digite a sua opção desejada'))\n",
    "        if opcao in [1,2,3,4,0]:\n",
    "            break\n",
    "        else:\n",
    "            print('Digite uma opção válida')\n",
    "    except:\n",
    "        print('Digite apenas nº válidos')\n",
    "\n",
    "match opcao:\n",
    "    case 1:\n",
    "        usuario = input('Digite o nome do usuário: ')\n",
    "        filme = input('Digite o nome do filme: ')\n",
    "        if usuario in usuarios_filmes:\n",
    "            usuarios_filmes[usuario].append(filme)\n",
    "        else:\n",
    "            usuarios_filmes[usuario] = []\n",
    "            usuarios_filmes[usuario].append(filme)\n",
    "    case 2:\n",
    "        usuario = input('Digite o nome do usuário: ')\n",
    "        if usuario in usuarios_filmes:\n",
    "            filme = input('Digite o nome do filme: ')\n",
    "            if filme in usuarios_filmes[usuario]:\n",
    "                usuarios_filmes.remove(filme)\n",
    "                print(\"Filme removido com sucesso!\")\n",
    "            else:\n",
    "                print(\"Esse filme não está na lista do usuário.\")\n",
    "        else:\n",
    "            print('Usuário não cadastrado')\n",
    "\n"
   ]
  }
 ],
 "metadata": {
  "kernelspec": {
   "display_name": "Python 3",
   "language": "python",
   "name": "python3"
  },
  "language_info": {
   "codemirror_mode": {
    "name": "ipython",
    "version": 3
   },
   "file_extension": ".py",
   "mimetype": "text/x-python",
   "name": "python",
   "nbconvert_exporter": "python",
   "pygments_lexer": "ipython3",
   "version": "3.11.4"
  },
  "orig_nbformat": 4
 },
 "nbformat": 4,
 "nbformat_minor": 2
}
